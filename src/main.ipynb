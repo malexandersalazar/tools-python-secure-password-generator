{
 "cells": [
  {
   "cell_type": "code",
   "execution_count": 7,
   "metadata": {},
   "outputs": [],
   "source": [
    "import random\n",
    "import sys as _s"
   ]
  },
  {
   "cell_type": "code",
   "execution_count": 8,
   "metadata": {},
   "outputs": [],
   "source": [
    "_chars = 'abcdefghijklmnopqrstuvwxyz!@#$%&*+-=?¿ABCDEFGHIJKLMNOPQRSTUVWXZ0123456789'\n",
    "_alphanumeric = 'abcdefghijklmnopqrstuvwxyzABCDEFGHIJKLMNOPQRSTUVWXZ0123456789'"
   ]
  },
  {
   "cell_type": "code",
   "execution_count": 9,
   "metadata": {},
   "outputs": [],
   "source": [
    "def run(list_Size = 16, mode = None):\n",
    "    if mode == '--an':\n",
    "        return ''.join(random.SystemRandom().choices([c for c in _alphanumeric], k=list_Size))\n",
    "    else:\n",
    "        return ''.join(random.SystemRandom().choices([c for c in _chars], k=list_Size))"
   ]
  },
  {
   "cell_type": "code",
   "execution_count": 10,
   "metadata": {},
   "outputs": [
    {
     "name": "stdout",
     "output_type": "stream",
     "text": [
      "N#D%HMi?Gvn6-&wD\n"
     ]
    }
   ],
   "source": [
    "if __name__ == \"__main__\":\n",
    "    if len(_s.argv) == 1:\n",
    "        print(run())\n",
    "    elif len(_s.argv) == 2:\n",
    "        try:\n",
    "            if _s.argv[1].startswith('--'):\n",
    "                print(run(mode=_s.argv[1]))\n",
    "            else:\n",
    "                print(run(int(_s.argv[1])))\n",
    "        except:\n",
    "            print(run())        \n",
    "    else:\n",
    "        try:\n",
    "            if _s.argv[1].startswith('--'):\n",
    "                print(run(int(_s.argv[2]),_s.argv[1]))\n",
    "            else:\n",
    "                print(run(int(_s.argv[1]),_s.argv[2]))\n",
    "        except:\n",
    "            print(run())"
   ]
  },
  {
   "cell_type": "code",
   "execution_count": null,
   "metadata": {},
   "outputs": [],
   "source": []
  }
 ],
 "metadata": {
  "interpreter": {
   "hash": "ff4f85d6e04298634172ac5d8264e7e9b556b95639fe52ebb9425c4d4cba0c9c"
  },
  "kernelspec": {
   "display_name": "Python 3.8.5 ('base')",
   "language": "python",
   "name": "python3"
  },
  "language_info": {
   "codemirror_mode": {
    "name": "ipython",
    "version": 3
   },
   "file_extension": ".py",
   "mimetype": "text/x-python",
   "name": "python",
   "nbconvert_exporter": "python",
   "pygments_lexer": "ipython3",
   "version": "3.8.5"
  },
  "orig_nbformat": 4
 },
 "nbformat": 4,
 "nbformat_minor": 2
}
