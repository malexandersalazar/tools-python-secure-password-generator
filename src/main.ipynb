{
 "cells": [
  {
   "cell_type": "code",
   "execution_count": 1,
   "metadata": {},
   "outputs": [],
   "source": [
    "import random\n",
    "import sys as _s"
   ]
  },
  {
   "cell_type": "code",
   "execution_count": 21,
   "metadata": {},
   "outputs": [],
   "source": [
    "_chars = 'abcdefghijklmnopqrstuvwxyz^¡!@$%*+-=&#?¿ABCDEFGHIJKLMNOPQRSTUVWXZ0123456789'\n",
    "_alphanumeric = 'abcdefghijklmnopqrstuvwxyzABCDEFGHIJKLMNOPQRSTUVWXZ0123456789'"
   ]
  },
  {
   "cell_type": "code",
   "execution_count": 53,
   "metadata": {},
   "outputs": [],
   "source": [
    "def run(**kwargs):\n",
    "    mode = kwargs.pop('mode')\n",
    "    size = kwargs.pop('size')\n",
    "\n",
    "    for i in range(kwargs.pop('quantity')):\n",
    "        if mode == 'a':\n",
    "            pwd = ''.join(random.SystemRandom().choices([c for c in _alphanumeric], k=size))\n",
    "        else:\n",
    "            pwd = ''.join(random.SystemRandom().choices([c for c in _chars], k=size))\n",
    "\n",
    "        print(pwd)"
   ]
  },
  {
   "cell_type": "code",
   "execution_count": 35,
   "metadata": {},
   "outputs": [],
   "source": [
    "if __name__ == \"__main__\":\n",
    "    mode = None\n",
    "    size = 16\n",
    "    quantity = 1\n",
    "    \n",
    "    for arg in _s.argv:\n",
    "        if(arg.startswith(\"-m\")):\n",
    "            mode = arg.split(\"=\")[1]\n",
    "        elif(arg.startswith(\"-s\")):\n",
    "            size = int(arg.split(\"=\")[1])\n",
    "        elif(arg.startswith(\"-q\")):\n",
    "            quantity = int(arg.split(\"=\")[1])\n",
    "\n",
    "    run(mode=mode, size=size, quantity=quantity)"
   ]
  }
 ],
 "metadata": {
  "interpreter": {
   "hash": "ff4f85d6e04298634172ac5d8264e7e9b556b95639fe52ebb9425c4d4cba0c9c"
  },
  "kernelspec": {
   "display_name": "Python 3.8.5 ('base')",
   "language": "python",
   "name": "python3"
  },
  "language_info": {
   "codemirror_mode": {
    "name": "ipython",
    "version": 3
   },
   "file_extension": ".py",
   "mimetype": "text/x-python",
   "name": "python",
   "nbconvert_exporter": "python",
   "pygments_lexer": "ipython3",
   "version": "3.8.5"
  },
  "orig_nbformat": 4
 },
 "nbformat": 4,
 "nbformat_minor": 2
}
