{
 "cells": [
  {
   "cell_type": "code",
   "execution_count": 1,
   "metadata": {},
   "outputs": [],
   "source": [
    "import random\n",
    "import sys as _s"
   ]
  },
  {
   "cell_type": "code",
   "execution_count": null,
   "metadata": {},
   "outputs": [],
   "source": [
    "MODE = 's'\n",
    "LENGTH = 16\n",
    "QUANTITY = 1"
   ]
  },
  {
   "cell_type": "code",
   "execution_count": 40,
   "metadata": {},
   "outputs": [],
   "source": [
    "_chars = \"\"\"abcdefghijklmnopqrstuvwxyz!\"#$%&'()*+,-./:;<=>?@[\\]^_`{|}~ABCDEFGHIJKLMNOPQRSTUVWXZ0123456789\"\"\"\n",
    "_symbols = \"\"\"!\"#$%&'()*+,-./:;<=>?@[\\]^_`{|}~\"\"\"\n",
    "_alphanumeric = 'abcdefghijklmnopqrstuvwxyzABCDEFGHIJKLMNOPQRSTUVWXZ0123456789'"
   ]
  },
  {
   "cell_type": "code",
   "execution_count": 57,
   "metadata": {},
   "outputs": [],
   "source": [
    "def validate_secure(pwd):\n",
    "    contains_upper = False\n",
    "    contains_lower = False\n",
    "    contains_special = False\n",
    "    for s in pwd:\n",
    "        if s.isupper():\n",
    "            contains_upper = True\n",
    "        elif s.islower():\n",
    "            contains_lower = True\n",
    "        elif s in _symbols:\n",
    "            contains_special = True\n",
    "    return contains_upper and contains_lower and contains_special\n"
   ]
  },
  {
   "cell_type": "code",
   "execution_count": 53,
   "metadata": {},
   "outputs": [],
   "source": [
    "def run(mode,length,quantity):\n",
    "    for i in range(quantity):\n",
    "        if mode == 's':\n",
    "            is_secure = False\n",
    "            while not is_secure:\n",
    "                pwd = ''.join(random.SystemRandom().choices([c for c in _chars], k=length))\n",
    "                is_secure = validate_secure(pwd)\n",
    "        else:\n",
    "            pwd = ''.join(random.SystemRandom().choices([c for c in _alphanumeric], k=length))\n",
    "\n",
    "        print(pwd)"
   ]
  },
  {
   "cell_type": "code",
   "execution_count": null,
   "metadata": {},
   "outputs": [],
   "source": [
    "run(MODE,LENGTH,QUANTITY)"
   ]
  }
 ],
 "metadata": {
  "interpreter": {
   "hash": "ff4f85d6e04298634172ac5d8264e7e9b556b95639fe52ebb9425c4d4cba0c9c"
  },
  "kernelspec": {
   "display_name": "Python 3.8.5 ('base')",
   "language": "python",
   "name": "python3"
  },
  "language_info": {
   "codemirror_mode": {
    "name": "ipython",
    "version": 3
   },
   "file_extension": ".py",
   "mimetype": "text/x-python",
   "name": "python",
   "nbconvert_exporter": "python",
   "pygments_lexer": "ipython3",
   "version": "3.10.9"
  },
  "orig_nbformat": 4
 },
 "nbformat": 4,
 "nbformat_minor": 2
}
