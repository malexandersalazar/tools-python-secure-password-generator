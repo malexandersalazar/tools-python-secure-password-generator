{
 "cells": [
  {
   "cell_type": "code",
   "execution_count": 70,
   "metadata": {},
   "outputs": [],
   "source": [
    "import random\n",
    "import sys as _s"
   ]
  },
  {
   "cell_type": "code",
   "execution_count": 71,
   "metadata": {},
   "outputs": [],
   "source": [
    "_chars = 'abcdefghijklmnopqrstuvwxyz!@#$%&*+-=?¿ABCDEFGHIJKLMNOPQRSTUVWXZ0123456789'"
   ]
  },
  {
   "cell_type": "code",
   "execution_count": 72,
   "metadata": {},
   "outputs": [],
   "source": [
    "def run(list_Size = 16):\n",
    "    return ''.join(random.SystemRandom().choices([c for c in _chars], k=list_Size))"
   ]
  },
  {
   "cell_type": "code",
   "execution_count": 73,
   "metadata": {},
   "outputs": [
    {
     "name": "stdout",
     "output_type": "stream",
     "text": [
      "$qUpNRysC96X+2*A\n"
     ]
    }
   ],
   "source": [
    "if __name__ == \"__main__\":\n",
    "    if(len(_s.argv) == 1):\n",
    "        print(run())\n",
    "    else:\n",
    "        try:\n",
    "            print(run(int(_s.argv[1])))\n",
    "        except:\n",
    "            print(run())"
   ]
  },
  {
   "cell_type": "code",
   "execution_count": null,
   "metadata": {},
   "outputs": [],
   "source": []
  }
 ],
 "metadata": {
  "interpreter": {
   "hash": "cef9e06bb236b2a8629b07e87a04b187b952a0f661eff5533360a155783f0c33"
  },
  "kernelspec": {
   "display_name": "Python 3.8.5 ('base')",
   "language": "python",
   "name": "python3"
  },
  "language_info": {
   "codemirror_mode": {
    "name": "ipython",
    "version": 3
   },
   "file_extension": ".py",
   "mimetype": "text/x-python",
   "name": "python",
   "nbconvert_exporter": "python",
   "pygments_lexer": "ipython3",
   "version": "3.8.5"
  },
  "orig_nbformat": 4
 },
 "nbformat": 4,
 "nbformat_minor": 2
}
